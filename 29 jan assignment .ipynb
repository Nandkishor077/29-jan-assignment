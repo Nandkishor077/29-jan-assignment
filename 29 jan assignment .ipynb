{
 "cells": [
  {
   "cell_type": "raw",
   "id": "e85a4cfa-2b0d-490a-90e8-4cca615bfeef",
   "metadata": {},
   "source": [
    "Q.1 who ddeveloped python programming language\n",
    "ans.Python was created by Guido van Rossum, and first released on February 20, 1991. The name of the Python programming language comes from an old BBC television comedy sketch series called Monty Python's Flying Circus"
   ]
  },
  {
   "cell_type": "raw",
   "id": "4a936bba-b1aa-448a-a6b7-f545eef7a494",
   "metadata": {},
   "source": [
    "Q.2 which type of programming does python support ?\n",
    "ans.Python is a general-purpose programming language that can be used for a wide range of applications. \n",
    "1.procedural programming\n",
    "2.object oriented programing\n",
    "3.functional programming\n",
    "4.aspect oriented "
   ]
  },
  {
   "cell_type": "raw",
   "id": "660d8007-2267-4a81-b060-504e798171a2",
   "metadata": {},
   "source": [
    "Q.3 Is python case sensitive when dealing with identifier?\n",
    "ans. Yes, Python is a case−sensitive programming language. This means that it considers uppercase and lowercase letters differently."
   ]
  },
  {
   "cell_type": "raw",
   "id": "dc855431-6453-4e18-b427-c761f7cb6e01",
   "metadata": {},
   "source": [
    "Q.4 what is correct extension of the python file ?\n",
    "ans. (.py) is the standard file extension for Python source code files. These files contain Python code that can be executed by a Python interpreter."
   ]
  },
  {
   "cell_type": "raw",
   "id": "2ce8108e-7a38-435b-916e-1c989f0c50a7",
   "metadata": {},
   "source": [
    "Q.5 Is python code compiled or interpreted?\n",
    "ans. Python is an interpreted language, which means the source code of a Python program is converted into bytecode that is then executed by the Python virtual machine."
   ]
  },
  {
   "cell_type": "raw",
   "id": "224200c0-00fe-43b4-87a1-fe3b2322b6b5",
   "metadata": {},
   "source": [
    "Q.6 Name a few block of code used to define in python?\n",
    "ans. Indentation is used to define a block of code in python"
   ]
  },
  {
   "cell_type": "raw",
   "id": "069f2bc0-2a2d-4b0c-a376-039039e7f365",
   "metadata": {},
   "source": [
    "Q.7 state a character used to give single line comment in python\n",
    "ans. We can write a single-line comment by adding a single # character before any statement or line of code."
   ]
  },
  {
   "cell_type": "raw",
   "id": "e49765ff-1d84-4d62-9018-e09e66d5ccd9",
   "metadata": {},
   "source": [
    "Q.8 mentions function which can helps us to find us the version of python tha we are currently working on?\n",
    "ans.Using python_version() function\n",
    "or using sys.version method"
   ]
  },
  {
   "cell_type": "raw",
   "id": "ac2f7d30-c6cd-4e56-93f1-310038ea1dcb",
   "metadata": {},
   "source": [
    "Q.9 python supports creation of anonymous function at run time using a construct called\n",
    "ans. lambda keyword is used ."
   ]
  },
  {
   "cell_type": "raw",
   "id": "b0fca311-418f-4044-9925-4817d42f2765",
   "metadata": {},
   "source": [
    "Q.10 what does pip stand for in python ?\n",
    "ans.  “Preferred Installer Program” or PIP Installs Packages"
   ]
  },
  {
   "cell_type": "raw",
   "id": "36cfed98-879c-4e19-90da-8a617b08308d",
   "metadata": {},
   "source": [
    "Q.11 mention a few built in fuction in python?\n",
    "ans.Some built in functios are \n",
    "abs()\n",
    "float()\n",
    "int()\n",
    "hash()\n",
    "type()"
   ]
  },
  {
   "cell_type": "raw",
   "id": "e605cf6f-96db-4a17-bff2-fe70a5bfffe9",
   "metadata": {},
   "source": [
    "Q.12 what is maximum possible length of identifier in python ?\n",
    "ans.The maximum possible length of an identifier in Python language is 79 characters. "
   ]
  },
  {
   "cell_type": "raw",
   "id": "b613640f-b3c1-4651-ac82-e9da68051044",
   "metadata": {},
   "source": [
    "Q.13 what are the benifit of using python?\n",
    "ans. Some benifits of python\n",
    "1.Open source and large active community base \n",
    "2.Versatile, Easy to read, learn and write\n",
    "3.User-friendly data structures \n",
    "4.High-level language\n",
    "5.Object-Oriented and Procedural  Programming language\n",
    "6.Portable and Interactive"
   ]
  },
  {
   "cell_type": "raw",
   "id": "0a2d7e03-d8fe-4f28-a2be-8e39cb929972",
   "metadata": {},
   "source": [
    "Q.14 How is memory managed in python ?\n",
    "ans.Memory management in Python involves a private heap containing all Python objects and data structures. The management of this private heap is ensured internally by the Python memory manager. The Python memory manager has different components which deal with various dynamic storage management aspects, like sharing, segmentation, preallocation or caching.\n",
    "\n",
    "Python Memory Allocation\n",
    " 1.Static Memory Allocation\n",
    " 2.Dynamic Memory Allocation\n",
    " \n",
    "Python Garbage Collector\n",
    " Python removes those objects that are no longer in use or can say that it frees up the memory space. This process of vanish the unnecessary  object's memory space is called the Garbage Collector.\n"
   ]
  },
  {
   "cell_type": "raw",
   "id": "e955fa7a-c8e4-4115-9fce-d6182ee9f353",
   "metadata": {},
   "source": [
    "Q.15 how to install python in windows and set path variables?\n",
    "ans. \n",
    "Installing python:\n",
    "Step 1 − Select Version of Python to Install\n",
    "Step 2 − Download Python Executable Installer\n",
    "Step 3 − Run Executable Installer\n",
    "Step 4 − Verify Python is installed on Windows\n",
    "Step 5 − Verify Pip was installed\n",
    "setting path variables:\n",
    "1. Right click on My Computer and click on properties.\n",
    "2. Click on Advanced System settings\n",
    "3. Click on Environment Variable tab.\n",
    "4. Click on new tab of user variables.\n",
    "5. Write path in variable name\n",
    "6. Copy the path of Python folder\n",
    "7. Paste path of Python in variable value.\n",
    "8. Click on Ok button"
   ]
  },
  {
   "cell_type": "raw",
   "id": "891a1ddb-8047-479b-b3d2-c7eddb598124",
   "metadata": {},
   "source": [
    "Q. Is indentation is required in python?\n",
    "ans.Indentation is mandatory in python to define the blocks of statements"
   ]
  }
 ],
 "metadata": {
  "kernelspec": {
   "display_name": "Python 3 (ipykernel)",
   "language": "python",
   "name": "python3"
  },
  "language_info": {
   "codemirror_mode": {
    "name": "ipython",
    "version": 3
   },
   "file_extension": ".py",
   "mimetype": "text/x-python",
   "name": "python",
   "nbconvert_exporter": "python",
   "pygments_lexer": "ipython3",
   "version": "3.10.8"
  }
 },
 "nbformat": 4,
 "nbformat_minor": 5
}
